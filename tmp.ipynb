{
 "cells": [
  {
   "cell_type": "code",
   "execution_count": 2,
   "id": "44d9cac5",
   "metadata": {},
   "outputs": [
    {
     "name": "stderr",
     "output_type": "stream",
     "text": [
      "100%|██████████| 4/4 [00:03<00:00,  1.15it/s]"
     ]
    },
    {
     "name": "stdout",
     "output_type": "stream",
     "text": [
      "unamigos_lr1e-3b32p3t32 400 27.96673100054264\n",
      "unp3lr1e-3b32PCVOQ 180 5.487138451470269\n",
      "03193_0.05_8_unp3lr1e-3b32PCVOQ_True_False_0_1_8_8_deposbug_pos_info1 180 0.834588140559469\n",
      "amigos_0_0.01_32_unp3lr1e-3b32PCVOQ_False_0.001_1_8_8_pos_encodingpolar2_emotion_test1 200 0.8286640342576312\n"
     ]
    },
    {
     "name": "stderr",
     "output_type": "stream",
     "text": [
      "\n"
     ]
    }
   ],
   "source": [
    "#  evaluate\n",
    "import os\n",
    "import numpy as np\n",
    "import tqdm\n",
    "\n",
    "files = os.listdir('results/')\n",
    "out_list = []\n",
    "for file in tqdm.tqdm(files):\n",
    "    if file == 'readme':\n",
    "        continue\n",
    "    item_list = os.listdir(f'results/{file}/')\n",
    "    auc_list = []\n",
    "    for item in item_list:\n",
    "        if 'infor' in item:\n",
    "            continue\n",
    "        try:\n",
    "            with open(f'results/{file}/{item}') as f:\n",
    "                lines = f.readlines()\n",
    "                auc_list.append(float(lines[2].strip()))\n",
    "        except Exception as e:\n",
    "            print(f'results/{file}/{item}', e)\n",
    "            continue\n",
    "    out_list.append([file, len(auc_list), np.mean(auc_list)])\n",
    "out_list = sorted(out_list, key = lambda k: k[2], reverse=True)\n",
    "for item in out_list:\n",
    "    print(item[0], item[1], item[2])"
   ]
  }
 ],
 "metadata": {
  "kernelspec": {
   "display_name": "Python 3",
   "language": "python",
   "name": "python3"
  },
  "language_info": {
   "codemirror_mode": {
    "name": "ipython",
    "version": 3
   },
   "file_extension": ".py",
   "mimetype": "text/x-python",
   "name": "python",
   "nbconvert_exporter": "python",
   "pygments_lexer": "ipython3",
   "version": "3.8.8"
  }
 },
 "nbformat": 4,
 "nbformat_minor": 5
}
